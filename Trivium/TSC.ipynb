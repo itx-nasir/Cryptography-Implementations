{
 "cells": [
  {
   "cell_type": "code",
   "execution_count": 1,
   "metadata": {},
   "outputs": [],
   "source": [
    "Si=[]\n",
    "def StrToBin(string):\n",
    "    return(''.join(format(ord(i), 'b') for i in string))"
   ]
  },
  {
   "cell_type": "code",
   "execution_count": 2,
   "metadata": {},
   "outputs": [],
   "source": [
    "def UpdateVector(V,i):\n",
    "    temp = V[-1:] + V[:-1] \n",
    "    temp[0]=i\n",
    "    return temp"
   ]
  },
  {
   "cell_type": "code",
   "execution_count": 3,
   "metadata": {},
   "outputs": [],
   "source": [
    "def ArrayXor(X,Si):#X is plane text  Si is key stream\n",
    "    temp=[]\n",
    "    for i in range(len(X)):\n",
    "        temp.append(X[i]^Si[i])\n",
    "    return(ListTostr(temp))"
   ]
  },
  {
   "cell_type": "code",
   "execution_count": 4,
   "metadata": {},
   "outputs": [],
   "source": [
    "\n",
    "def BinaryToDecimal(binary): \n",
    "    binary1 = binary \n",
    "    decimal, i, n = 0, 0, 0\n",
    "    while(binary != 0): \n",
    "        dec = binary % 10\n",
    "        decimal = decimal + dec * pow(2, i) \n",
    "        binary = binary//10\n",
    "        i += 1\n",
    "    return (decimal)\n",
    "\n",
    "\n",
    "def BinTostr(arr):\n",
    "    str_data =' '\n",
    "    for i in range(0, len(arr), 7): \n",
    "        temp_data = int(arr[i:i + 7]) \n",
    "        decimal_data = BinaryToDecimal(temp_data)  \n",
    "        str_data = str_data + chr(decimal_data)  \n",
    "    return str_data"
   ]
  },
  {
   "cell_type": "code",
   "execution_count": 5,
   "metadata": {},
   "outputs": [],
   "source": [
    "def Xor(a,b,c):\n",
    "    return(a^b^c)"
   ]
  },
  {
   "cell_type": "code",
   "execution_count": 6,
   "metadata": {},
   "outputs": [],
   "source": [
    "def StrToList(string):\n",
    "    return([int(i) for i in string])"
   ]
  },
  {
   "cell_type": "code",
   "execution_count": 7,
   "metadata": {},
   "outputs": [],
   "source": [
    "def AdjustSize(arr,Totalsize):\n",
    "    temp=[0]*Totalsize\n",
    "    ind=Totalsize-len(arr)\n",
    "    for i in arr:\n",
    "        temp[ind]=i\n",
    "        ind=ind+1\n",
    "    return temp\n",
    "        "
   ]
  },
  {
   "cell_type": "code",
   "execution_count": 8,
   "metadata": {},
   "outputs": [],
   "source": [
    "def GenKeyStream(PlaneTextBin,InitialVectorA,InitialVectorB,InitialVectorC):\n",
    "    \n",
    "    i=0\n",
    "    while(i<len(PlaneTextBin)):\n",
    "          t1=Xor((InitialVectorA[90]&InitialVectorA[91]),InitialVectorA[92],InitialVectorA[65])\n",
    "          t2=Xor((InitialVectorB[82]&InitialVectorB[81]),InitialVectorB[68],InitialVectorB[83])\n",
    "          t3=Xor((InitialVectorC[109]&InitialVectorC[108]),InitialVectorC[65],InitialVectorC[110])\n",
    "          Si.append(Xor(t1,t2,t3))\n",
    "          InitialVectorA=UpdateVector(InitialVectorA,t3^InitialVectorA[68])\n",
    "          InitialVectorB=UpdateVector(InitialVectorB,t1^InitialVectorB[77])\n",
    "          InitialVectorC=UpdateVector(InitialVectorC,t2^InitialVectorC[86])\n",
    "          i=i+1\n",
    "    return Si"
   ]
  },
  {
   "cell_type": "code",
   "execution_count": 9,
   "metadata": {},
   "outputs": [],
   "source": [
    "def Encryption(PlainText,InitialVectorA,InitialVectorB,InitialVectorC):\n",
    "    PlainTextBin = StrToBin(PlainText)\n",
    "    print(\"PlainTextBin String=\",ListTostr(PlainTextBin))\n",
    "    PlainTextBin = StrToList(PlainTextBin)\n",
    "    Si=GenKeyStream(PlainTextBin,InitialVectorA,InitialVectorB,InitialVectorC)\n",
    "    print(\"Si Generated  =\",ListTostr(Si))\n",
    "    return(ArrayXor(PlainTextBin,Si))\n",
    "    "
   ]
  },
  {
   "cell_type": "code",
   "execution_count": 10,
   "metadata": {},
   "outputs": [],
   "source": [
    "def ListTostr(arr):\n",
    "    arr=[str(int) for int in arr]\n",
    "    arr=\"\".join(arr)\n",
    "    return  arr\n",
    "        "
   ]
  },
  {
   "cell_type": "code",
   "execution_count": 11,
   "metadata": {
    "scrolled": true
   },
   "outputs": [
    {
     "name": "stdout",
     "output_type": "stream",
     "text": [
      "Please Enter a plain Text to encrypt:\n",
      "Nasir\n",
      "The plain Text you entered is=  Nasir\n",
      "PlainTextBin String= 10011101100001111001111010011110010\n",
      "Si Generated  = 01110110001011001101110001110110011\n",
      "cipherText Binary after encryption= 11101011101010110100001011101000001\n",
      "cipherText  after encryption=  ujh.A\n",
      "PlainText Binary After decryption= 10011101100001111001111010011110010\n",
      "PlainText  After decryption=  Nasir\n"
     ]
    }
   ],
   "source": [
    "def Main():\n",
    "        PlainText=input(\"Please Enter a plain Text to encrypt:\\n\")\n",
    "        print(\"The plain Text you entered is= \",PlainText)\n",
    "        InitialVectorA=StrToBin(\"170519\") #sTrToBin convert my Rollno to binary string and return it\n",
    "        InitialVectorB=StrToBin(\"170517\") #Subtract 2 from last digit of rollNo\n",
    "        InitialVectorC=StrToBin(\"170515\")  #subtract 4 from last digit of roll\n",
    "        InitialVectorA=StrToList(InitialVectorA)\n",
    "        InitialVectorB=StrToList(InitialVectorB)\n",
    "        InitialVectorC=StrToList(InitialVectorC)\n",
    "        InitialVectorA=AdjustSize(InitialVectorA,93)\n",
    "        InitialVectorB=AdjustSize(InitialVectorB,84)\n",
    "        InitialVectorC=AdjustSize(InitialVectorC,111)\n",
    "        CipherText=Encryption(PlainText,InitialVectorA,InitialVectorB,InitialVectorC)\n",
    "        print(\"cipherText Binary after encryption=\",CipherText)\n",
    "        print(\"cipherText  after encryption=\",BinTostr(CipherText))\n",
    "        CipherText=StrToList(CipherText)\n",
    "        PlainText=ArrayXor(CipherText,Si)\n",
    "        print(\"PlainText Binary After decryption=\",PlainText)\n",
    "        print(\"PlainText  After decryption=\",BinTostr(PlainText))\n",
    "        \n",
    "\n",
    "\n",
    "    \n",
    "Main()"
   ]
  }
 ],
 "metadata": {
  "kernelspec": {
   "display_name": "Python 3",
   "language": "python",
   "name": "python3"
  },
  "language_info": {
   "codemirror_mode": {
    "name": "ipython",
    "version": 3
   },
   "file_extension": ".py",
   "mimetype": "text/x-python",
   "name": "python",
   "nbconvert_exporter": "python",
   "pygments_lexer": "ipython3",
   "version": "3.8.3"
  }
 },
 "nbformat": 4,
 "nbformat_minor": 4
}
